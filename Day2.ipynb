{
 "cells": [
  {
   "cell_type": "markdown",
   "metadata": {},
   "source": [
    "# NumpyRegression"
   ]
  },
  {
   "cell_type": "code",
   "execution_count": 3,
   "metadata": {},
   "outputs": [],
   "source": [
    "import numpy as np\n",
    "import matplotlib.pyplot as plt\n",
    "import pandas as pd"
   ]
  },
  {
   "cell_type": "code",
   "execution_count": 31,
   "metadata": {},
   "outputs": [
    {
     "name": "stdout",
     "output_type": "stream",
     "text": [
      "55.0\n"
     ]
    }
   ],
   "source": [
    "data_x = np.linspace(1.0,10.0,100)[:,np.newaxis]\n",
    "data_y = np.sin(data_x) + 0.1 * np.power(data_x,2) + 0.5 *np.random.randn(100,1)\n",
    "data_x /= np.max(data_x)\n",
    "#data_x = data_x/np.max(data_x)\n",
    "print(np.sum(data_x))\n",
    "#data_y"
   ]
  },
  {
   "cell_type": "code",
   "execution_count": 52,
   "metadata": {},
   "outputs": [
    {
     "data": {
      "text/plain": [
       "1.5524225856717038"
      ]
     },
     "execution_count": 52,
     "metadata": {},
     "output_type": "execute_result"
    }
   ],
   "source": [
    "from IPython import display\n",
    "import time\n",
    "\n",
    "def linear_regression(X,y, m_current=1, b_current=1, epochs=100, learning_rate=0.1):\n",
    "    for iter1 in range(epochs):\n",
    "        hx = m_current * X + b_current\n",
    "        m_current -= (learning_rate/len(X))* np.sum((hx-data_y)*X)\n",
    "        b_current -= (learning_rate/len(X))* np.sum((hx-data_y))\n",
    "    cost = 1/len(X)*np.sum(np.power((hx-data_y),2))\n",
    "    return m_current,b_current,cost\n",
    "    \n",
    "#def predict(m,b,c):\n",
    " #   newx=m*x+b\n",
    "     #return newx\n",
    "    \n",
    "\n",
    "\n",
    "m,b,c  = linear_regression(data_x,data_y,1,1,1000,0.1)\n",
    "c\n",
    "#print(predict)"
   ]
  },
  {
   "cell_type": "code",
   "execution_count": 16,
   "metadata": {},
   "outputs": [
    {
     "data": {
      "text/plain": [
       "2653.9203599152365"
      ]
     },
     "execution_count": 16,
     "metadata": {},
     "output_type": "execute_result"
    }
   ],
   "source": [
    "from IPython import display\n",
    "import numpy as np\n",
    "import time\n",
    "\n",
    "def linear_regression(X,Y,theta,epochs=100,learning_rate = 0.1):\n",
    "    for iter1 in range(epochs):\n",
    "        y_current = np.dot(X,theta)\n",
    "        theta -= (learning_rate/len(X))*np.sum(np.dot((y_current-Y).T , X))\n",
    "    cost =  1/len(X)*np.sum(np.power((y_current-Y),2))\n",
    "    return cost,theta\n",
    "    \n",
    "\n",
    "from sklearn.datasets import make_regression\n",
    "X,Y = make_regression(n_features = 3)\n",
    "Y = Y[:,np.newaxis]\n",
    "theta = np.random.random((X.shape[1],1))\n",
    "\n",
    "c,t = linear_regression(X,Y,theta)\n",
    "c\n",
    "\n",
    "#def linear_regression(X,Y,epochs,theta1,theta2,theta3,epochs=100,learning_rate = 0.1)"
   ]
  }
 ],
 "metadata": {
  "kernelspec": {
   "display_name": "Python 3",
   "language": "python",
   "name": "python3"
  },
  "language_info": {
   "codemirror_mode": {
    "name": "ipython",
    "version": 3
   },
   "file_extension": ".py",
   "mimetype": "text/x-python",
   "name": "python",
   "nbconvert_exporter": "python",
   "pygments_lexer": "ipython3",
   "version": "3.6.7"
  }
 },
 "nbformat": 4,
 "nbformat_minor": 2
}
