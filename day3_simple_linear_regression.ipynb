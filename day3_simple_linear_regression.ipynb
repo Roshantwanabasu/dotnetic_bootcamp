{
 "cells": [
  {
   "cell_type": "code",
   "execution_count": 1,
   "metadata": {},
   "outputs": [],
   "source": [
    "import pandas as pd\n",
    "import numpy as np"
   ]
  },
  {
   "cell_type": "code",
   "execution_count": 9,
   "metadata": {},
   "outputs": [],
   "source": [
    "# def linear_regression(X,y, m_current=1, b_current=1, epochs=100, learning_rate=0.1):\n",
    "#     for iter1 in range(epochs):\n",
    "#         hx = m_current * X + b_current\n",
    "#         m_current -= (learning_rate/len(X))* np.sum((hx-y)*X)\n",
    "#         b_current -= (learning_rate/len(X))* np.sum((hx-y))\n",
    "#     cost = 1/len(X)*np.sum(np.power((hx-y),2))\n",
    "#     return m_current,b_current,cost"
   ]
  },
  {
   "cell_type": "code",
   "execution_count": 57,
   "metadata": {},
   "outputs": [],
   "source": [
    "df = pd.read_excel(\"house_price.xlsx\")\n",
    "X = df['area']\n",
    "X_reshape = X.values.reshape(-1,1)\n",
    "y = df['price']"
   ]
  },
  {
   "cell_type": "markdown",
   "metadata": {},
   "source": [
    "## Training the model"
   ]
  },
  {
   "cell_type": "code",
   "execution_count": 58,
   "metadata": {},
   "outputs": [],
   "source": [
    "import sklearn\n",
    "from sklearn.model_selection import train_test_split\n",
    "X_train,X_test, y_train,y_test = train_test_split(X_reshape,y,test_size = 0.3) #30%data\n",
    "# print('training data:',len(X_train),len(y_train))\n",
    "# print('testing data:',len(X_test),len(y_test))"
   ]
  },
  {
   "cell_type": "code",
   "execution_count": 59,
   "metadata": {
    "scrolled": false
   },
   "outputs": [
    {
     "name": "stdout",
     "output_type": "stream",
     "text": [
      "beta(m): [ 64.71982413]\n",
      "alpha(b): 214964.978092\n"
     ]
    }
   ],
   "source": [
    "from sklearn import linear_model\n",
    "slr = linear_model.LinearRegression() #create linear regression model\n",
    "slr.fit(X_train,y_train) #estimate parameters\n",
    "print('beta(m):',slr.coef_)\n",
    "print('alpha(b):',slr.intercept_)"
   ]
  },
  {
   "cell_type": "markdown",
   "metadata": {},
   "source": [
    "# Evaluating the model"
   ]
  },
  {
   "cell_type": "code",
   "execution_count": 60,
   "metadata": {},
   "outputs": [
    {
     "name": "stdout",
     "output_type": "stream",
     "text": [
      "mean sq error: 10632376841.1\n",
      "r2: 0.528878055122\n"
     ]
    }
   ],
   "source": [
    "from sklearn.metrics import mean_squared_error, r2_score\n",
    "\n",
    "y_predict = slr.predict(X_test) #predict Y based on the model\n",
    "mean_squared_error = mean_squared_error(y_test,y_predict) #calculate mean sq error\n",
    "r2_score = r2_score(y_test,y_predict) #compute r2\n",
    "\n",
    "print('mean sq error:', mean_squared_error)\n",
    "print('r2:',r2_score)"
   ]
  },
  {
   "cell_type": "markdown",
   "metadata": {},
   "source": [
    "# Visualize the model"
   ]
  },
  {
   "cell_type": "code",
   "execution_count": 64,
   "metadata": {},
   "outputs": [
    {
     "data": {
      "image/png": "[encoded data removed]",
      "text/plain": [
       "<matplotlib.figure.Figure at 0x7fd3f23a6710>"
      ]
     },
     "metadata": {},
     "output_type": "display_data"
    }
   ],
   "source": [
    "import matplotlib.pyplot as plt\n",
    "%matplotlib inline\n",
    "\n",
    "plt.scatter(X_test, y_test, color = 'black')\n",
    "plt.plot(X_test, y_predict, color = 'blue')\n",
    "plt.xlabel('area')\n",
    "plt.ylabel('price')\n",
    "\n",
    "plt.show()\n",
    "# print(plt.scatter.__doc__)\n"
   ]
  },
  {
   "cell_type": "code",
   "execution_count": null,
   "metadata": {},
   "outputs": [],
   "source": []
  }
 ],
 "metadata": {
  "kernelspec": {
   "display_name": "Python 3",
   "language": "python",
   "name": "python3"
  },
  "language_info": {
   "codemirror_mode": {
    "name": "ipython",
    "version": 3
   },
   "file_extension": ".py",
   "mimetype": "text/x-python",
   "name": "python",
   "nbconvert_exporter": "python",
   "pygments_lexer": "ipython3",
   "version": "3.6.7"
  }
 },
 "nbformat": 4,
 "nbformat_minor": 2
}
