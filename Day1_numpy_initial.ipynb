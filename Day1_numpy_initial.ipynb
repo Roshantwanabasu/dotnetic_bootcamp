{
 "cells": [
  {
   "cell_type": "code",
   "execution_count": 2,
   "metadata": {},
   "outputs": [
    {
     "name": "stdout",
     "output_type": "stream",
     "text": [
      "[8, 16, 24, 32, 40, 48, 64]\n"
     ]
    }
   ],
   "source": [
    "x = []\n",
    "y = [1,2,3,4,5,6,8]\n",
    "for a in y:\n",
    "    x.append(a*8)\n",
    "print(x)\n"
   ]
  },
  {
   "cell_type": "code",
   "execution_count": 14,
   "metadata": {},
   "outputs": [
    {
     "name": "stdout",
     "output_type": "stream",
     "text": [
      "[0 1 2 3 4 5 6]\n",
      "[0, 2, 4, 6]\n"
     ]
    }
   ],
   "source": [
    "import numpy as np\n",
    "x = np.arange(7)\n",
    "print(x)\n",
    "multiple = [a for a in x if a % 2 == 0 ]\n",
    "print(multiple)"
   ]
  },
  {
   "cell_type": "code",
   "execution_count": 23,
   "metadata": {},
   "outputs": [
    {
     "name": "stdout",
     "output_type": "stream",
     "text": [
      "new:car\n",
      "\n",
      "old:house\n",
      "\n",
      "bad:dog\n",
      "\n"
     ]
    }
   ],
   "source": [
    "dict = {'new':'car','old':'house','bad':'dog'}\n",
    "for a in dict:\n",
    "    print(a+':'+dict[a])\n",
    "    print()\n",
    "    "
   ]
  },
  {
   "cell_type": "code",
   "execution_count": 22,
   "metadata": {},
   "outputs": [
    {
     "name": "stdout",
     "output_type": "stream",
     "text": [
      "new car\n",
      "old house\n",
      "bad dog\n"
     ]
    }
   ],
   "source": [
    "for k,v in dict.items():\n",
    "    print(k,v)"
   ]
  },
  {
   "cell_type": "code",
   "execution_count": 31,
   "metadata": {},
   "outputs": [
    {
     "data": {
      "text/plain": [
       "(1+2j)"
      ]
     },
     "execution_count": 31,
     "metadata": {},
     "output_type": "execute_result"
    }
   ],
   "source": [
    "list = range(7)\n",
    "odd = {x:x**2 for x in list if x%2 == 1 }\n",
    "odd\n",
    "complex(1,2)\n"
   ]
  },
  {
   "cell_type": "code",
   "execution_count": 44,
   "metadata": {},
   "outputs": [
    {
     "name": "stdout",
     "output_type": "stream",
     "text": [
      "(-5+10j)\n"
     ]
    }
   ],
   "source": [
    "class mulComplex:\n",
    "    def __init__(self,comp1):\n",
    "        self.comp1 = comp1\n",
    "        #self.comp2 = comp2\n",
    "    def multi(self,comp):\n",
    "        comp3 = self.comp1*comp\n",
    "        print(comp3)\n",
    "        \n",
    "    \n",
    "    \n",
    "comp1 = complex(1,2)\n",
    "comp2 = complex(3,4)\n",
    "a = mulComplex(comp1)\n",
    "a.multi(comp2)\n"
   ]
  },
  {
   "cell_type": "code",
   "execution_count": 49,
   "metadata": {},
   "outputs": [
    {
     "name": "stdout",
     "output_type": "stream",
     "text": [
      "(5+8j)\n"
     ]
    }
   ],
   "source": [
    "###2nd method\n",
    "class mulcomplex:\n",
    "    def __init__(self,a,b):\n",
    "        self.comp1 = complex(a,b)\n",
    "    def add(self,b):\n",
    "        c = self.comp1 + b.comp1\n",
    "        return c\n",
    "        \n",
    "\n",
    "        \n",
    "a = mulcomplex(2,3)\n",
    "b = mulcomplex(3,5)\n",
    "c = a.add(b)\n",
    "print(c)\n"
   ]
  },
  {
   "cell_type": "code",
   "execution_count": 55,
   "metadata": {},
   "outputs": [
    {
     "name": "stdout",
     "output_type": "stream",
     "text": [
      "(5, 8)\n"
     ]
    }
   ],
   "source": [
    "#making own complex class\n",
    "class complex:\n",
    "    def __init__(self,a,b):\n",
    "        self.real = a\n",
    "        self.img = b\n",
    "    def add(self,comp):\n",
    "        return complex(self.real+comp.real,self.img+comp.img)\n",
    "    def __str__(self):\n",
    "        return str((self.real,self.img))\n",
    "a = complex(2,3)\n",
    "b = complex(3,5)\n",
    "c = a.add(b)\n",
    "print(c)"
   ]
  },
  {
   "cell_type": "markdown",
   "metadata": {},
   "source": [
    "# NUMPY"
   ]
  },
  {
   "cell_type": "code",
   "execution_count": 56,
   "metadata": {},
   "outputs": [
    {
     "data": {
      "text/plain": [
       "(6,)"
      ]
     },
     "execution_count": 56,
     "metadata": {},
     "output_type": "execute_result"
    }
   ],
   "source": [
    "a = np.arange(6)\n",
    "a.shape"
   ]
  },
  {
   "cell_type": "code",
   "execution_count": 58,
   "metadata": {},
   "outputs": [
    {
     "data": {
      "text/plain": [
       "array([[1, 2, 3, 4],\n",
       "       [2, 3, 4, 5]])"
      ]
     },
     "execution_count": 58,
     "metadata": {},
     "output_type": "execute_result"
    }
   ],
   "source": [
    "a = np.array([[1,2,3,4],[2,3,4,5]])\n",
    "a"
   ]
  },
  {
   "cell_type": "code",
   "execution_count": null,
   "metadata": {},
   "outputs": [],
   "source": []
  },
  {
   "cell_type": "code",
   "execution_count": 75,
   "metadata": {},
   "outputs": [
    {
     "name": "stdout",
     "output_type": "stream",
     "text": [
      "[[1 2]\n",
      " [3 4]\n",
      " [5 6]]\n",
      "[1 4 3]\n"
     ]
    }
   ],
   "source": [
    "a = np.array([[1,2],[3,4],[5,6]])\n",
    "print(a)\n",
    "print(a[[0,1,1],[0,1,0]])"
   ]
  },
  {
   "cell_type": "code",
   "execution_count": null,
   "metadata": {},
   "outputs": [],
   "source": []
  },
  {
   "cell_type": "code",
   "execution_count": 68,
   "metadata": {},
   "outputs": [
    {
     "name": "stdout",
     "output_type": "stream",
     "text": [
      "[[ 0  1  2  3]\n",
      " [ 4  5  6  7]\n",
      " [ 8  9 10 11]]\n",
      "[[ 5  7]\n",
      " [ 9 11]]\n"
     ]
    }
   ],
   "source": [
    "a = np.arange(12)\n",
    "b = a.reshape(3,4)\n",
    "c = b[1:,1::2]\n",
    "print(b)\n",
    "print(c)"
   ]
  },
  {
   "cell_type": "code",
   "execution_count": 79,
   "metadata": {},
   "outputs": [
    {
     "name": "stdout",
     "output_type": "stream",
     "text": [
      "[[ 0  1  2]\n",
      " [ 3  4  5]\n",
      " [ 6  7  8]\n",
      " [ 9 10 11]]\n",
      "[ 0  5  6 10]\n"
     ]
    }
   ],
   "source": [
    "a = np.arange(12)\n",
    "a = a.reshape(4,3)\n",
    "b = np.array([0,2,0,1])\n",
    "print(a)\n",
    "print(a[np.arange(4),b])"
   ]
  },
  {
   "cell_type": "code",
   "execution_count": 82,
   "metadata": {},
   "outputs": [
    {
     "data": {
      "text/plain": [
       "array([[ True, False, False],\n",
       "       [ True,  True,  True],\n",
       "       [ True,  True,  True],\n",
       "       [ True,  True,  True]], dtype=bool)"
      ]
     },
     "execution_count": 82,
     "metadata": {},
     "output_type": "execute_result"
    }
   ],
   "source": [
    "a[np.arange(4),b] +=10\n",
    "boolindex = (a>2)\n",
    "boolindex"
   ]
  },
  {
   "cell_type": "code",
   "execution_count": null,
   "metadata": {},
   "outputs": [],
   "source": []
  }
 ],
 "metadata": {
  "kernelspec": {
   "display_name": "Python 3",
   "language": "python",
   "name": "python3"
  },
  "language_info": {
   "codemirror_mode": {
    "name": "ipython",
    "version": 3
   },
   "file_extension": ".py",
   "mimetype": "text/x-python",
   "name": "python",
   "nbconvert_exporter": "python",
   "pygments_lexer": "ipython3",
   "version": "3.6.7"
  }
 },
 "nbformat": 4,
 "nbformat_minor": 2
}
